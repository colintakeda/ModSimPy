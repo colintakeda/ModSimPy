{
 "cells": [
  {
   "cell_type": "markdown",
   "metadata": {
    "colab_type": "text",
    "id": "PLxyG0SHtu8e"
   },
   "source": [
    "## Project 3 -  Sweet Spot Swindle\n",
    "\n",
    "By Jasmine Kamdar and Colin Takeda\n"
   ]
  },
  {
   "cell_type": "markdown",
   "metadata": {},
   "source": [
    "In the game of billiards, the player seeks to have the greatest control over the cue ball and the target ball. In order to achieve the greatest amount of control one is often advised to hit the ball in the coveted 'sweet spot.' The 'sweet spot' has come to mean the height at which one applied a force where the cue ball immediately starts rolling without slipping. However, does the 'sweet spot' actually affect one's ability to play the game? \n",
    "\n",
    "**Question:** Does hitting the sweet spot in pool have a significant effect on the end result of a pool shot, if initial velocity is held constant? For this model, a significant effect will be quantified by the time taken to get to rolling without slipping and the difference in end velocity. "
   ]
  },
  {
   "cell_type": "markdown",
   "metadata": {},
   "source": [
    "**Methodology:** For heights other than the sweet spot, we will calculate the amount of time it takes for the ball to start rolling without slipping and the corresponding velocities and distances. \n",
    "For the sweet spot, the ball will immediately start rolling without slipping.\n",
    "For both parts, we will then model the end velocity of these balls at a given constant distance.\n",
    "\n",
    "**Assumptions:**\n",
    "\n",
    "-Force is applied parallel to the ground\n",
    "\n",
    "-Sweet spot is defined as immediate rolling without slipping\n",
    "\n",
    "-The force is applied to a singular point\n",
    "\n"
   ]
  },
  {
   "cell_type": "markdown",
   "metadata": {},
   "source": [
    "**Results:**\n",
    "Time it takes different heights to get to a controlled state (rolling without slipping)\n",
    "End velocities of the different hits\n"
   ]
  },
  {
   "cell_type": "markdown",
   "metadata": {},
   "source": [
    "**Interpretation:**\n",
    "The percent difference between applying a force at different heights, the sweet spot, and the control\n",
    "Contacted the United STate Professional Pool Players Association to see if the sweet spot is a concept professional keep in mind\n"
   ]
  },
  {
   "cell_type": "code",
   "execution_count": 279,
   "metadata": {
    "colab": {},
    "colab_type": "code",
    "id": "sMbjKoO-AsWC"
   },
   "outputs": [],
   "source": [
    "# Configure Jupyter so figures appear in the notebook\n",
    "%matplotlib inline\n",
    "\n",
    "# Configure Jupyter to display the assigned value after an assignment\n",
    "%config InteractiveShell.ast_node_interactivity='last_expr'\n",
    "\n",
    "# import functions from the modsim.py module\n",
    "from modsim import *"
   ]
  },
  {
   "cell_type": "code",
   "execution_count": 280,
   "metadata": {
    "colab": {},
    "colab_type": "code",
    "id": "5l9rlTvbA2KZ"
   },
   "outputs": [],
   "source": [
    "m = UNITS.meter\n",
    "s = UNITS.second\n",
    "degree = UNITS.degree\n",
    "radian = UNITS.radian\n",
    "newton = UNITS.newton\n",
    "kg = UNITS.kilogram"
   ]
  },
  {
   "cell_type": "code",
   "execution_count": 281,
   "metadata": {
    "colab": {},
    "colab_type": "code",
    "id": "Ywnx0R-QA2Uj"
   },
   "outputs": [
    {
     "name": "stdout",
     "output_type": "stream",
     "text": [
      "w_0            0.0 radian / second\n",
      "v_0            10.0 meter / second\n",
      "cof_f                          0.2\n",
      "cof_res                      0.005\n",
      "r_ball              0.028575 meter\n",
      "m_cue                0.17 kilogram\n",
      "m_ball               0.16 kilogram\n",
      "g          9.8 meter / second ** 2\n",
      "L                       2.54 meter\n",
      "t_end                    10 second\n",
      "dtype: object\n"
     ]
    }
   ],
   "source": [
    "params = Params(\n",
    "               w_0 = 0 * radian/s,\n",
    "               v_0 = 10 * m/s,\n",
    "               cof_f= 0.2,     #Coefficient of friction between the ball and table\n",
    "               cof_res=0.005,   #Coefficient of rolling resistance between the ball and table       \n",
    "               r_ball = 5.715/200 * m, \n",
    "               m_cue = 0.17 * kg,\n",
    "               m_ball = 0.16 * kg,\n",
    "               g = 9.8 *m / s**2,\n",
    "               L = 2.54 * m,\n",
    "               t_end = 10 * s,\n",
    "\n",
    "              )\n",
    "print(params)"
   ]
  },
  {
   "cell_type": "code",
   "execution_count": 282,
   "metadata": {
    "colab": {},
    "colab_type": "code",
    "id": "MjvGtK-pA2cx"
   },
   "outputs": [],
   "source": [
    "def make_system(params):\n",
    "    \n",
    "    unpack(params)\n",
    "  \n",
    "    I = (2/5)*m_cue * r_ball**2\n",
    "    F_f = cof_f*(m_ball*g)\n",
    "    F_res = (cof_res*m_ball*g)\n",
    "    t_roll = (2*v_0) / (7*cof_f*g) #Time at which rolling without slipping starts\n",
    "        \n",
    "    \n",
    "    P = Vector(0, 0) * m\n",
    "    V = Vector(v_0 , 0) * m/s\n",
    "    \n",
    "    init = State(x=P.x, theta=0, \n",
    "                 vx=V.x, omega=0)\n",
    " \n",
    "    \n",
    "    return System(init=init, t_end=t_end,F_f=F_f,I=I,t_roll=t_roll,F_res=F_res)\n",
    "  "
   ]
  },
  {
   "cell_type": "code",
   "execution_count": 283,
   "metadata": {
    "colab": {},
    "colab_type": "code",
    "id": "ygbvUeypA2j1"
   },
   "outputs": [],
   "source": [
    "system = make_system(params)"
   ]
  },
  {
   "cell_type": "code",
   "execution_count": 284,
   "metadata": {
    "colab": {},
    "colab_type": "code",
    "id": "kg6JdPPlA2m4"
   },
   "outputs": [],
   "source": [
    "def slope_func(state, t, system): #Ball Hit at Center of Mass, No Overspin or Underspin\n",
    "    \n",
    "    x, theta, v, omega = state\n",
    "    unpack(system)\n",
    "    t=t*s\n",
    "    \n",
    "    tau  = F_f*r_ball \n",
    "    \n",
    "    if t <= t_roll: #Slipping occurs\n",
    "\n",
    "        v=v_0-(cof_f*g*t)\n",
    "        omega = ((5*cof_f*g)/(2*r_ball))*t *radian\n",
    "        alpha = (5*cof_f*g)/(2*r_ball)     *radian\n",
    "        a = -cof_f*g\n",
    "        \n",
    "    else: #Rolling with Slipping \n",
    "        \n",
    "        a = -F_res/m_ball\n",
    "        v = v_0 + a*t\n",
    "    \n",
    "        omega = v/r_ball *radian\n",
    "        alpha = a/r_ball *radian #something weird\n",
    "\n",
    "    return v, omega, a, alpha"
   ]
  },
  {
   "cell_type": "code",
   "execution_count": 285,
   "metadata": {
    "colab": {
     "base_uri": "https://localhost:8080/",
     "height": 122
    },
    "colab_type": "code",
    "id": "IsUiBJa2itSg",
    "outputId": "13598ba9-993b-4422-dce4-c34cf081e3e2"
   },
   "outputs": [
    {
     "data": {
      "text/plain": [
       "(<Quantity(10.0, 'meter / second')>,\n",
       " <Quantity(0.0, 'radian / second')>,\n",
       " <Quantity(-1.9600000000000002, 'meter / second ** 2')>,\n",
       " <Quantity(171.4785651793526, 'radian / second ** 2')>)"
      ]
     },
     "execution_count": 285,
     "metadata": {},
     "output_type": "execute_result"
    }
   ],
   "source": [
    "slope_func(system.init, 0, system)"
   ]
  },
  {
   "cell_type": "code",
   "execution_count": 286,
   "metadata": {
    "colab": {},
    "colab_type": "code",
    "id": "lwrNlXKOA2pr"
   },
   "outputs": [],
   "source": [
    "def event_func(state,t,system):\n",
    "    \n",
    "    unpack(system)\n",
    "    x, theta, v, omega = state\n",
    "\n",
    "    stop = r_ball*omega\n",
    "   # return L - x #Stops simualtion at 3 meters\n",
    "    return v"
   ]
  },
  {
   "cell_type": "code",
   "execution_count": 287,
   "metadata": {
    "colab": {
     "base_uri": "https://localhost:8080/",
     "height": 290
    },
    "colab_type": "code",
    "id": "9oi1gKv4kL0x",
    "outputId": "158369fa-cfb1-4090-a481-84696fba5283"
   },
   "outputs": [
    {
     "data": {
      "text/html": [
       "10.0 meter<sup>2</sup>/second<sup>2</sup>"
      ],
      "text/latex": [
       "$10.0 \\frac{meter^{2}}{second^{2}}$"
      ],
      "text/plain": [
       "<Quantity(10.0, 'meter ** 2 / second ** 2')>"
      ]
     },
     "execution_count": 287,
     "metadata": {},
     "output_type": "execute_result"
    }
   ],
   "source": [
    "event_func(init,0,system)"
   ]
  },
  {
   "cell_type": "code",
   "execution_count": 288,
   "metadata": {
    "colab": {
     "base_uri": "https://localhost:8080/",
     "height": 801
    },
    "colab_type": "code",
    "id": "4xBsSHrLA2ss",
    "outputId": "c0b96a14-bdc7-4b90-f701-ab9c60910cf1"
   },
   "outputs": [
    {
     "name": "stdout",
     "output_type": "stream",
     "text": [
      "                   x         theta         vx       omega\n",
      "0.000000    0.000000  0.000000e+00  10.000000    0.000000\n",
      "0.000006    0.000058  2.905353e-09   9.999989    0.000998\n",
      "0.000064    0.000640  3.515477e-07   9.999874    0.010980\n",
      "0.000646    0.006461  3.579685e-05   9.998734    0.110801\n",
      "0.006467    0.064632  3.586138e-03   9.987324    1.109005\n",
      "0.056467    0.561548  2.733846e-01   9.889324    9.682933\n",
      "0.106467    1.053565  9.718794e-01   9.791324   18.256861\n",
      "0.156467    1.540681  2.099071e+00   9.693324   26.830790\n",
      "0.206467    2.022897  3.654958e+00   9.595324   35.404718\n",
      "0.256467    2.500213  5.639542e+00   9.497324   43.978646\n",
      "0.306467    2.972629  8.052823e+00   9.399324   52.552574\n",
      "0.356467    3.440146  1.089480e+01   9.301324   61.126503\n",
      "0.406467    3.902762  1.416547e+01   9.203324   69.700431\n",
      "0.456467    4.360478  1.786484e+01   9.105324   78.274359\n",
      "0.506467    4.813294  2.199291e+01   9.007324   86.848287\n",
      "0.556467    5.261210  2.654967e+01   8.909324   95.422216\n",
      "0.606467    5.704227  3.153513e+01   8.811324  103.996144\n",
      "0.656467    6.142343  3.694929e+01   8.713324  112.570072\n",
      "0.706467    6.575559  4.279214e+01   8.615324  121.144000\n",
      "0.756467    7.003875  4.906369e+01   8.517324  129.717929\n",
      "0.806467    7.427291  5.576393e+01   8.419324  138.291857\n",
      "0.856467    7.845808  6.289287e+01   8.321324  146.865785\n",
      "0.906467    8.259424  7.045051e+01   8.223324  155.439713\n",
      "0.956467    8.668140  7.843684e+01   8.125324  164.013642\n",
      "1.006467    9.071956  8.685187e+01   8.027324  172.587570\n",
      "1.056467    9.470872  9.569560e+01   7.929324  181.161498\n",
      "1.106467    9.864889  1.049680e+02   7.831324  189.735426\n",
      "1.156467   10.254005  1.146691e+02   7.733324  198.309355\n",
      "1.206467   10.638221  1.247990e+02   7.635324  206.883283\n",
      "1.256467   11.017537  1.353575e+02   7.537324  215.457211\n",
      "...              ...           ...        ...         ...\n",
      "8.556467   81.731368  2.605169e+03   6.788715  238.367239\n",
      "8.606467   82.210343  2.621931e+03   6.786265  238.281499\n",
      "8.656467   82.689196  2.638689e+03   6.783815  238.195760\n",
      "8.706467   83.167926  2.655442e+03   6.781365  238.110021\n",
      "8.756467   83.646534  2.672191e+03   6.778915  238.024282\n",
      "8.806467   84.125020  2.688936e+03   6.776465  237.938542\n",
      "8.856467   84.603383  2.705677e+03   6.774015  237.852803\n",
      "8.906467   85.081623  2.722413e+03   6.771565  237.767064\n",
      "8.956467   85.559741  2.739145e+03   6.769115  237.681324\n",
      "9.006467   86.037736  2.755873e+03   6.766665  237.595585\n",
      "9.056467   86.515609  2.772597e+03   6.764215  237.509846\n",
      "9.106467   86.993360  2.789316e+03   6.761765  237.424107\n",
      "9.156467   87.470988  2.806031e+03   6.759315  237.338367\n",
      "9.206467   87.948493  2.822741e+03   6.756865  237.252628\n",
      "9.256467   88.425876  2.839447e+03   6.754415  237.166889\n",
      "9.306467   88.903136  2.856150e+03   6.751965  237.081150\n",
      "9.356467   89.380274  2.872847e+03   6.749515  236.995410\n",
      "9.406467   89.857290  2.889541e+03   6.747065  236.909671\n",
      "9.456467   90.334182  2.906230e+03   6.744615  236.823932\n",
      "9.506467   90.810953  2.922915e+03   6.742165  236.738192\n",
      "9.556467   91.287601  2.939595e+03   6.739715  236.652453\n",
      "9.606467   91.764126  2.956272e+03   6.737265  236.566714\n",
      "9.656467   92.240529  2.972944e+03   6.734815  236.480975\n",
      "9.706467   92.716809  2.989611e+03   6.732365  236.395235\n",
      "9.756467   93.192967  3.006275e+03   6.729915  236.309496\n",
      "9.806467   93.669003  3.022934e+03   6.727465  236.223757\n",
      "9.856467   94.144916  3.039589e+03   6.725015  236.138017\n",
      "9.906467   94.620706  3.056239e+03   6.722565  236.052278\n",
      "9.956467   95.096374  3.072886e+03   6.720115  235.966539\n",
      "10.000000  95.510416  3.087375e+03   6.717982  235.891890\n",
      "\n",
      "[205 rows x 4 columns]\n"
     ]
    }
   ],
   "source": [
    "results, details = run_ode_solver(system,slope_func,events=event_func, max_step=0.05)\n",
    "details\n",
    "print(results)"
   ]
  },
  {
   "cell_type": "markdown",
   "metadata": {},
   "source": [
    "## Control - No Initial Torque"
   ]
  },
  {
   "cell_type": "code",
   "execution_count": 291,
   "metadata": {
    "colab": {},
    "colab_type": "code",
    "id": "5gmhP5_0A3R8"
   },
   "outputs": [
    {
     "data": {
      "image/png": "[encoded data removed]",
      "text/plain": [
       "<Figure size 600x400 with 1 Axes>"
      ]
     },
     "metadata": {
      "needs_background": "light"
     },
     "output_type": "display_data"
    }
   ],
   "source": [
    "plt.figure(dpi = 100)\n",
    "plot(results.x,label='Position')\n",
    "plot(results.vx,label='Velocity')\n",
    "#plot(results.omega,label='Omega')\n",
    "#plot(results.theta,label='Theta')\n",
    "\n",
    "decorate(title='Center of Mass to Rolling Without Slipping',\n",
    "         xlabel='Time(Sec)',\n",
    "         ylabel='Distance and Velocity')"
   ]
  },
  {
   "cell_type": "markdown",
   "metadata": {},
   "source": [
    "## Sweet Spot"
   ]
  },
  {
   "cell_type": "code",
   "execution_count": 278,
   "metadata": {},
   "outputs": [
    {
     "ename": "SyntaxError",
     "evalue": "invalid syntax (<ipython-input-278-f46883b2f87d>, line 22)",
     "output_type": "error",
     "traceback": [
      "\u001b[1;36m  File \u001b[1;32m\"<ipython-input-278-f46883b2f87d>\"\u001b[1;36m, line \u001b[1;32m22\u001b[0m\n\u001b[1;33m    f_app =\u001b[0m\n\u001b[1;37m            ^\u001b[0m\n\u001b[1;31mSyntaxError\u001b[0m\u001b[1;31m:\u001b[0m invalid syntax\n"
     ]
    }
   ],
   "source": [
    "def update_func(state, t, system): #Ball Hit at Heights Above Center of Mass\n",
    "    \n",
    "    x, theta, v, omega = state\n",
    "    unpack(system)\n",
    "    t=t*s\n",
    "\n",
    "    #Linear Equations\n",
    "    v=v_0-(cof_f*g*t)\n",
    "  \n",
    "    #a=-cof_f*g\n",
    "  #  dvdt = -v\n",
    "    a = -cof_f*g\n",
    "    \n",
    "   # a = -r_ball*alpha\n",
    "    \n",
    "\n",
    "    omega=v/r_ball*radian\n",
    "    \n",
    "        \n",
    "    #Rotational Equations \n",
    "    h = (2/5)*dvdt\n",
    "    f_app = \n",
    "    tau  = F_f*r_ball + f_app*h#Should torque be torque applied by friction and initial height\n",
    "    alpha  = tau / I *radian\n",
    "    \n",
    "    \n",
    "    return v, omega, a, alpha"
   ]
  },
  {
   "cell_type": "code",
   "execution_count": null,
   "metadata": {},
   "outputs": [],
   "source": []
  },
  {
   "cell_type": "code",
   "execution_count": null,
   "metadata": {},
   "outputs": [],
   "source": []
  }
 ],
 "metadata": {
  "colab": {
   "collapsed_sections": [],
   "name": "Project3.ipynb",
   "provenance": [],
   "version": "0.3.2"
  },
  "kernelspec": {
   "display_name": "Python 3",
   "language": "python",
   "name": "python3"
  },
  "language_info": {
   "codemirror_mode": {
    "name": "ipython",
    "version": 3
   },
   "file_extension": ".py",
   "mimetype": "text/x-python",
   "name": "python",
   "nbconvert_exporter": "python",
   "pygments_lexer": "ipython3",
   "version": "3.6.6"
  }
 },
 "nbformat": 4,
 "nbformat_minor": 1
}
