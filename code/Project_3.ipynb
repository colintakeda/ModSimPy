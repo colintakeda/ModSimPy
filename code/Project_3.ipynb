{
 "cells": [
  {
   "cell_type": "markdown",
   "metadata": {
    "colab_type": "text",
    "id": "PLxyG0SHtu8e"
   },
   "source": [
    "## Project 3 -  Sweet Spot Swindle\n",
    "\n",
    "By Jasmine Kamdar and Colin Takeda\n"
   ]
  },
  {
   "cell_type": "markdown",
   "metadata": {},
   "source": [
    "In the game of billiards, the player seeks to have the greatest control over the cue ball and the target ball. In order to achieve the greatest amount of control one is often advised to hit the ball in the coveted 'sweet spot.' The 'sweet spot' has come to mean the height at which one applied a force where the cue ball immediately starts rolling without slipping. However, does the 'sweet spot' actually affect one's ability to play the game? \n",
    "\n",
    "**Question:** Does hitting the sweet spot in pool have a significant effect on the end result of a pool shot, if initial velocity is held constant? For this model, a significant effect will be quantified by the time taken to get to rolling without slipping and the difference in end velocity. "
   ]
  },
  {
   "cell_type": "markdown",
   "metadata": {},
   "source": [
    "**Methodology:** For heights other than the sweet spot, we will calculate the amount of time it takes for the ball to start rolling without slipping and the corresponding velocities and distances. \n",
    "For the sweet spot, the ball will immediately start rolling without slipping.\n",
    "For both parts, we will then model the end velocity of these balls at a given constant distance.\n",
    "\n",
    "**Assumptions:**\n",
    "\n",
    "-Force is applied parallel to the ground\n",
    "\n",
    "-Sweet spot is defined as immediate rolling without slipping\n",
    "\n",
    "-The force is applied to a singular point\n",
    "\n"
   ]
  },
  {
   "cell_type": "markdown",
   "metadata": {},
   "source": [
    "**Results:**\n",
    "Time it takes different heights to get to a controlled state (rolling without slipping)\n",
    "End velocities of the different hits\n"
   ]
  },
  {
   "cell_type": "markdown",
   "metadata": {},
   "source": [
    "**Interpretation:**\n",
    "The percent difference between applying a force at different heights, the sweet spot, and the control\n",
    "Contacted the United STate Professional Pool Players Association to see if the sweet spot is a concept professional keep in mind\n"
   ]
  },
  {
   "cell_type": "code",
   "execution_count": 216,
   "metadata": {
    "colab": {},
    "colab_type": "code",
    "id": "sMbjKoO-AsWC"
   },
   "outputs": [],
   "source": [
    "# Configure Jupyter so figures appear in the notebook\n",
    "%matplotlib inline\n",
    "\n",
    "# Configure Jupyter to display the assigned value after an assignment\n",
    "%config InteractiveShell.ast_node_interactivity='last_expr'\n",
    "\n",
    "# import functions from the modsim.py module\n",
    "from modsim import *"
   ]
  },
  {
   "cell_type": "code",
   "execution_count": 217,
   "metadata": {
    "colab": {},
    "colab_type": "code",
    "id": "5l9rlTvbA2KZ"
   },
   "outputs": [],
   "source": [
    "m = UNITS.meter\n",
    "s = UNITS.second\n",
    "degree = UNITS.degree\n",
    "radian = UNITS.radian\n",
    "newton = UNITS.newton\n",
    "kg = UNITS.kilogram"
   ]
  },
  {
   "cell_type": "code",
   "execution_count": 307,
   "metadata": {
    "colab": {},
    "colab_type": "code",
    "id": "Ywnx0R-QA2Uj"
   },
   "outputs": [
    {
     "name": "stdout",
     "output_type": "stream",
     "text": [
      "v_0             1.9 meter / second\n",
      "cof_f                          0.2\n",
      "cof_res                      0.015\n",
      "r_ball              0.028575 meter\n",
      "m_ball               0.17 kilogram\n",
      "g          9.8 meter / second ** 2\n",
      "L                       2.54 meter\n",
      "t_end                    10 second\n",
      "t_cue                 0.002 second\n",
      "h                    0.01132 meter\n",
      "dtype: object\n"
     ]
    }
   ],
   "source": [
    "params = Params( #Coefficients / relavent metrics are by Dr. Dave Alciatore of Colorado State University\n",
    "        \n",
    "               v_0 = 1.9 * m/s,\n",
    "               cof_f= 0.2,     #Coefficient of friction between the ball and table\n",
    "               cof_res=0.015,   #Coefficient of rolling resistance between the ball and table       \n",
    "               r_ball = 0.05715/2 * m,\n",
    "               m_ball = 0.17 * kg,\n",
    "               g = 9.8 *m / s**2,\n",
    "               L = 2.54 * m,\n",
    "               t_end = 10 * s,\n",
    "               t_cue = 0.002 *s,\n",
    "               h = .01132 * m\n",
    "              )\n",
    "print(params)"
   ]
  },
  {
   "cell_type": "code",
   "execution_count": 308,
   "metadata": {
    "colab": {},
    "colab_type": "code",
    "id": "MjvGtK-pA2cx"
   },
   "outputs": [],
   "source": [
    "def make_system(params):\n",
    "    \n",
    "    unpack(params)\n",
    "    \n",
    " \n",
    "    I = (2/5)*m_ball * r_ball**2\n",
    "    F_f = cof_f*m_ball*g\n",
    "    F_res = cof_res*m_ball*g\n",
    "   # F_init = m_ball*v_0/t_cue #Not sure if correct\n",
    "    F_init = 50 * kg*m/s**2\n",
    "    w_0 = F_init*h/I*t_cue *radian\n",
    "    #v_0=w_0*(2/5)*r_ball**2/h \n",
    "    t_roll = (2*v_0) / (7*cof_f*g)#Time at which rolling without slipping starts\n",
    "    sweet_spot = 2/5*r_ball\n",
    "    \n",
    "    \n",
    "   # v_final = (5/7)*v_0 + (2/7)*r_ball*w_0\n",
    "    \n",
    "    init = State(x=0, theta=0, \n",
    "                 vx=v_0, omega=0)\n",
    "   \n",
    "    return System(init=init,t_end=t_end,I=I,F_f=F_f,F_res=F_res,F_init=F_init,w_0=w_0,t_roll=t_roll,sweet_spot=sweet_spot)\n",
    "  "
   ]
  },
  {
   "cell_type": "code",
   "execution_count": 309,
   "metadata": {
    "colab": {},
    "colab_type": "code",
    "id": "ygbvUeypA2j1"
   },
   "outputs": [
    {
     "name": "stdout",
     "output_type": "stream",
     "text": [
      "init          x                         0\n",
      "theta             ...\n",
      "t_end                                                 10 second\n",
      "I                          5.55240825e-05 kilogram * meter ** 2\n",
      "F_f           0.33320000000000005 kilogram * meter / second ...\n",
      "F_res         0.024990000000000005 kilogram * meter / second...\n",
      "F_init                      50.0 kilogram * meter / second ** 2\n",
      "w_0                          20.387549852804863 radian / second\n",
      "t_roll                               0.27696793002915443 second\n",
      "sweet_spot                           0.011430000000000001 meter\n",
      "dtype: object\n"
     ]
    }
   ],
   "source": [
    "system = make_system(params)\n",
    "print(system)"
   ]
  },
  {
   "cell_type": "code",
   "execution_count": 310,
   "metadata": {
    "colab": {},
    "colab_type": "code",
    "id": "kg6JdPPlA2m4"
   },
   "outputs": [],
   "source": [
    "def slope_func(state, t, system): #Ball Hit at Center of Mass, No Overspin or Underspin\n",
    "    \n",
    "    x, theta, v, omega = state\n",
    "    unpack(system)\n",
    "    t=t*s\n",
    "    \n",
    "    tau  = F_f*r_ball #Not being used at all. How does applying an initial force change this interaction? Change equations?\n",
    "    \n",
    "    if t <= t_roll: #Slipping occurs\n",
    "    \n",
    "        v = sqrt((v_0**2)*2*cof_f*g)/(m**0.5)\n",
    "        omega = w_0 + ((5*cof_f*g)/(2*r_ball))*t*radian\n",
    "        alpha = (5*cof_f*g)/(2*r_ball) *radian\n",
    "        a = -(F_f+F_res)/m_ball\n",
    "        \n",
    "    else: #Rolling with Slipping \n",
    "        \n",
    "        a = -F_res/m_ball\n",
    "        v = v_0 + a*t\n",
    "    \n",
    "        omega = v/r_ball *radian\n",
    "        alpha = a/r_ball *radian #something weird\n",
    "\n",
    "    return v, omega, a, alpha"
   ]
  },
  {
   "cell_type": "code",
   "execution_count": 311,
   "metadata": {
    "colab": {
     "base_uri": "https://localhost:8080/",
     "height": 122
    },
    "colab_type": "code",
    "id": "IsUiBJa2itSg",
    "outputId": "13598ba9-993b-4422-dce4-c34cf081e3e2"
   },
   "outputs": [
    {
     "data": {
      "text/plain": [
       "(<Quantity(3.761808075912433, 'meter / second ** 2')>,\n",
       " <Quantity(20.387549852804863, 'radian / second')>,\n",
       " <Quantity(-2.107, 'meter / second ** 2')>,\n",
       " <Quantity(171.4785651793526, 'radian / second ** 2')>)"
      ]
     },
     "execution_count": 311,
     "metadata": {},
     "output_type": "execute_result"
    }
   ],
   "source": [
    "slope_func(system.init, 0, system)"
   ]
  },
  {
   "cell_type": "code",
   "execution_count": 316,
   "metadata": {
    "colab": {},
    "colab_type": "code",
    "id": "lwrNlXKOA2pr"
   },
   "outputs": [],
   "source": [
    "def event_func(state,t,system):\n",
    "    \n",
    "    unpack(system)\n",
    "    x, theta, v, omega = state\n",
    "\n",
    "    stop = r_ball*omega\n",
    "   # return L - x #Stops simualtion at 3 meters\n",
    "    return L - x #What should the event function actually be?"
   ]
  },
  {
   "cell_type": "code",
   "execution_count": 317,
   "metadata": {
    "colab": {
     "base_uri": "https://localhost:8080/",
     "height": 290
    },
    "colab_type": "code",
    "id": "9oi1gKv4kL0x",
    "outputId": "158369fa-cfb1-4090-a481-84696fba5283"
   },
   "outputs": [
    {
     "data": {
      "text/html": [
       "2.54 meter"
      ],
      "text/latex": [
       "$2.54 meter$"
      ],
      "text/plain": [
       "<Quantity(2.54, 'meter')>"
      ]
     },
     "execution_count": 317,
     "metadata": {},
     "output_type": "execute_result"
    }
   ],
   "source": [
    "event_func(init,0,system)"
   ]
  },
  {
   "cell_type": "code",
   "execution_count": 318,
   "metadata": {
    "colab": {
     "base_uri": "https://localhost:8080/",
     "height": 801
    },
    "colab_type": "code",
    "id": "4xBsSHrLA2ss",
    "outputId": "c0b96a14-bdc7-4b90-f701-ab9c60910cf1"
   },
   "outputs": [
    {
     "name": "stdout",
     "output_type": "stream",
     "text": [
      "                 x      theta        vx      omega\n",
      "0.000000  0.000000   0.000000  1.900000   0.000000\n",
      "0.000006  0.000022   0.000118  1.899988   0.000992\n",
      "0.000064  0.000239   0.001298  1.899866   0.010915\n",
      "0.000642  0.002416   0.013130  1.898647   0.110140\n",
      "0.006429  0.024184   0.134609  1.886455   1.102388\n",
      "0.056429  0.212274   1.423454  1.781105   9.676316\n",
      "0.106429  0.400364   3.140996  1.675755  18.250245\n",
      "0.156429  0.588455   5.287234  1.570405  26.824173\n",
      "0.206429  0.776545   7.862168  1.465055  35.398101\n",
      "0.256429  0.964636  10.865799  1.359705  43.972029\n",
      "0.306429  1.108940  14.155539  1.299397  48.487005\n",
      "0.356429  1.201504  17.394874  1.292047  48.229787\n",
      "0.406429  1.293700  20.621348  1.284697  47.972569\n",
      "0.456429  1.385529  23.834961  1.277347  47.715352\n",
      "0.506429  1.476991  27.035714  1.269997  47.458134\n",
      "0.556429  1.568085  30.223605  1.262647  47.200916\n",
      "0.606429  1.658811  33.398636  1.255297  46.943698\n",
      "0.656429  1.749170  36.560805  1.247947  46.686480\n",
      "0.706429  1.839162  39.710114  1.240597  46.429262\n",
      "0.756429  1.928786  42.846562  1.233247  46.172045\n",
      "0.806429  2.018042  45.970149  1.225897  45.914827\n",
      "0.856429  2.106931  49.080875  1.218547  45.657609\n",
      "0.906429  2.195453  52.178741  1.211197  45.400391\n",
      "0.956429  2.283607  55.263745  1.203847  45.143173\n",
      "1.006429  2.371393  58.335888  1.196497  44.885955\n",
      "1.056429  2.458812  61.395171  1.189147  44.628737\n",
      "1.103054  2.540000  64.236395  1.182293  44.388879\n"
     ]
    }
   ],
   "source": [
    "results, details = run_ode_solver(system,slope_func,events=event_func, max_step=0.05)\n",
    "details\n",
    "print(results)"
   ]
  },
  {
   "cell_type": "markdown",
   "metadata": {},
   "source": [
    "## Control - No Initial Torque"
   ]
  },
  {
   "cell_type": "code",
   "execution_count": 319,
   "metadata": {
    "colab": {},
    "colab_type": "code",
    "id": "5gmhP5_0A3R8"
   },
   "outputs": [
    {
     "data": {
      "image/png": "[encoded data removed]",
      "text/plain": [
       "<Figure size 600x400 with 1 Axes>"
      ]
     },
     "metadata": {
      "needs_background": "light"
     },
     "output_type": "display_data"
    }
   ],
   "source": [
    "plt.figure(dpi = 100)\n",
    "plot(results.x,label='Position')\n",
    "plot(results.vx,label='Velocity')\n",
    "#plot(results.omega,label='Omega')\n",
    "#plot(results.theta,label='Theta')\n",
    "\n",
    "decorate(title=\n",
    "         'Center of Mass to Rolling Without Slipping',\n",
    "         xlabel='Time(Sec)',\n",
    "         ylabel='Distance and Velocity')"
   ]
  },
  {
   "cell_type": "markdown",
   "metadata": {},
   "source": [
    "## Sweet Spot"
   ]
  },
  {
   "cell_type": "code",
   "execution_count": 278,
   "metadata": {},
   "outputs": [
    {
     "ename": "SyntaxError",
     "evalue": "invalid syntax (<ipython-input-278-f46883b2f87d>, line 22)",
     "output_type": "error",
     "traceback": [
      "\u001b[1;36m  File \u001b[1;32m\"<ipython-input-278-f46883b2f87d>\"\u001b[1;36m, line \u001b[1;32m22\u001b[0m\n\u001b[1;33m    f_app =\u001b[0m\n\u001b[1;37m            ^\u001b[0m\n\u001b[1;31mSyntaxError\u001b[0m\u001b[1;31m:\u001b[0m invalid syntax\n"
     ]
    }
   ],
   "source": [
    "def update_func(state, t, system): #Ball Hit at Heights Above Center of Mass\n",
    "    \n",
    "    x, theta, v, omega = state\n",
    "    unpack(system)\n",
    "    t=t*s\n",
    "\n",
    "    #Linear Equations\n",
    "    v=v_0-(cof_f*g*t)\n",
    "  \n",
    "    #a=-cof_f*g\n",
    "  #  dvdt = -v\n",
    "    a = -cof_f*g\n",
    "    \n",
    "   # a = -r_ball*alpha\n",
    "    \n",
    "\n",
    "    omega=v/r_ball*radian\n",
    "    \n",
    "        \n",
    "    #Rotational Equations \n",
    "    h = (2/5)*dvdt\n",
    "    f_app = \n",
    "    tau  = F_f*r_ball + f_app*h#Should torque be torque applied by friction and initial height\n",
    "    alpha  = tau / I *radian\n",
    "    \n",
    "    \n",
    "    return v, omega, a, alpha"
   ]
  },
  {
   "cell_type": "code",
   "execution_count": null,
   "metadata": {},
   "outputs": [],
   "source": []
  },
  {
   "cell_type": "code",
   "execution_count": null,
   "metadata": {},
   "outputs": [],
   "source": []
  }
 ],
 "metadata": {
  "colab": {
   "collapsed_sections": [],
   "name": "Project3.ipynb",
   "provenance": [],
   "version": "0.3.2"
  },
  "kernelspec": {
   "display_name": "Python 3",
   "language": "python",
   "name": "python3"
  },
  "language_info": {
   "codemirror_mode": {
    "name": "ipython",
    "version": 3
   },
   "file_extension": ".py",
   "mimetype": "text/x-python",
   "name": "python",
   "nbconvert_exporter": "python",
   "pygments_lexer": "ipython3",
   "version": "3.6.6"
  }
 },
 "nbformat": 4,
 "nbformat_minor": 1
}
